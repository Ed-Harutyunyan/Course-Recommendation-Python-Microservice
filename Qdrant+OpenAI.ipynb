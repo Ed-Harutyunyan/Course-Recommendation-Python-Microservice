{
 "cells": [
  {
   "metadata": {
    "collapsed": true,
    "ExecuteTime": {
     "end_time": "2025-03-19T10:13:08.304715Z",
     "start_time": "2025-03-19T10:13:07.993451Z"
    }
   },
   "cell_type": "code",
   "source": [
    "import os\n",
    "import openai\n",
    "from dotenv import load_dotenv\n",
    "\n",
    "load_dotenv(\".env\")\n",
    "\n",
    "collection_name = \"courses_collection\"\n",
    "embedding_dimension = 1536"
   ],
   "id": "initial_id",
   "outputs": [],
   "execution_count": 1
  },
  {
   "metadata": {
    "ExecuteTime": {
     "end_time": "2025-03-20T07:17:53.952607Z",
     "start_time": "2025-03-20T07:17:53.522642Z"
    }
   },
   "cell_type": "code",
   "source": [
    "from qdrant_client import QdrantClient\n",
    "\n",
    "qdrant_client = QdrantClient(\n",
    "    url=os.getenv(\"QDRANT_URL\"),\n",
    "    api_key=os.getenv(\"QDRANT_API_KEY\"),\n",
    "    https=True\n",
    ")\n",
    "\n",
    "openai_client = openai.Client(\n",
    "    api_key=os.getenv(\"OPENAI_API_KEY\")\n",
    ")"
   ],
   "id": "28c5a89087b1dcbf",
   "outputs": [],
   "execution_count": 50
  },
  {
   "metadata": {
    "ExecuteTime": {
     "end_time": "2025-03-19T10:13:21.626834Z",
     "start_time": "2025-03-19T10:13:21.206842Z"
    }
   },
   "cell_type": "code",
   "source": [
    "from qdrant_client.http.models import VectorParams, Distance\n",
    "\n",
    "collections = qdrant_client.get_collections().collections\n",
    "if not qdrant_client.collection_exists(collection_name):\n",
    "    qdrant_client.create_collection(\n",
    "        collection_name=collection_name,\n",
    "        vectors_config=VectorParams(\n",
    "            size=embedding_dimension,\n",
    "            distance=Distance.COSINE\n",
    "        )\n",
    "    )"
   ],
   "id": "ea34773107989ee2",
   "outputs": [],
   "execution_count": 4
  },
  {
   "metadata": {
    "ExecuteTime": {
     "end_time": "2025-03-11T16:29:05.217900Z",
     "start_time": "2025-03-11T16:29:00.437210Z"
    }
   },
   "cell_type": "code",
   "source": [
    "from qdrant_client.http.models import PointStruct\n",
    "import json\n",
    "\n",
    "with open(\"recommendation_server/data/processed_courses.json\", \"r\", encoding=\"utf-8\") as f:\n",
    "    courses = json.load(f)\n",
    "\n",
    "points = []\n",
    "for idx, course in enumerate(courses):\n",
    "    text = f\"{course['course_title']}. {course['course_description']}\"\n",
    "    response = openai_client.embeddings.create(\n",
    "        model=\"text-embedding-3-small\",\n",
    "        input=text\n",
    "    )\n",
    "    embedding = response.data[0].embedding\n",
    "    point = PointStruct(\n",
    "        id=course['course_code'], #TODO CHANGE TO UUID\n",
    "        vector=embedding,\n",
    "        payload=course\n",
    "    )\n",
    "    points.append(point)\n",
    "\n",
    "qdrant_client.upsert(collection_name=collection_name, points=points)"
   ],
   "id": "fb273c2b02f55e1",
   "outputs": [
    {
     "name": "stdout",
     "output_type": "stream",
     "text": [
      "BSN202\n",
      "BSN203\n"
     ]
    },
    {
     "ename": "UnexpectedResponse",
     "evalue": "Unexpected Response: 400 (Bad Request)\nRaw response content:\nb'{\"status\":{\"error\":\"Format error in JSON body: value BSN202 is not a valid point ID, valid values are either an unsigned integer or a UUID\"},\"time\":0.0}'",
     "output_type": "error",
     "traceback": [
      "\u001B[0;31m---------------------------------------------------------------------------\u001B[0m",
      "\u001B[0;31mUnexpectedResponse\u001B[0m                        Traceback (most recent call last)",
      "Cell \u001B[0;32mIn[5], line 22\u001B[0m\n\u001B[1;32m     20\u001B[0m     points\u001B[38;5;241m.\u001B[39mappend(point)\n\u001B[1;32m     21\u001B[0m     \u001B[38;5;28mprint\u001B[39m(point\u001B[38;5;241m.\u001B[39mid)\n\u001B[0;32m---> 22\u001B[0m \u001B[43mqdrant_client\u001B[49m\u001B[38;5;241;43m.\u001B[39;49m\u001B[43mupsert\u001B[49m\u001B[43m(\u001B[49m\u001B[43mcollection_name\u001B[49m\u001B[38;5;241;43m=\u001B[39;49m\u001B[43mcollection_name\u001B[49m\u001B[43m,\u001B[49m\u001B[43m \u001B[49m\u001B[43mpoints\u001B[49m\u001B[38;5;241;43m=\u001B[39;49m\u001B[43mpoints\u001B[49m\u001B[43m)\u001B[49m\n",
      "File \u001B[0;32m~/Desktop/VectorEmbedding/.venv/lib/python3.9/site-packages/qdrant_client/qdrant_client.py:1567\u001B[0m, in \u001B[0;36mQdrantClient.upsert\u001B[0;34m(self, collection_name, points, wait, ordering, shard_key_selector, **kwargs)\u001B[0m\n\u001B[1;32m   1564\u001B[0m     \u001B[38;5;28;01melse\u001B[39;00m:\n\u001B[1;32m   1565\u001B[0m         points \u001B[38;5;241m=\u001B[39m \u001B[38;5;28mself\u001B[39m\u001B[38;5;241m.\u001B[39m_embed_models(points, is_query\u001B[38;5;241m=\u001B[39m\u001B[38;5;28;01mFalse\u001B[39;00m)\n\u001B[0;32m-> 1567\u001B[0m \u001B[38;5;28;01mreturn\u001B[39;00m \u001B[38;5;28;43mself\u001B[39;49m\u001B[38;5;241;43m.\u001B[39;49m\u001B[43m_client\u001B[49m\u001B[38;5;241;43m.\u001B[39;49m\u001B[43mupsert\u001B[49m\u001B[43m(\u001B[49m\n\u001B[1;32m   1568\u001B[0m \u001B[43m    \u001B[49m\u001B[43mcollection_name\u001B[49m\u001B[38;5;241;43m=\u001B[39;49m\u001B[43mcollection_name\u001B[49m\u001B[43m,\u001B[49m\n\u001B[1;32m   1569\u001B[0m \u001B[43m    \u001B[49m\u001B[43mpoints\u001B[49m\u001B[38;5;241;43m=\u001B[39;49m\u001B[43mpoints\u001B[49m\u001B[43m,\u001B[49m\n\u001B[1;32m   1570\u001B[0m \u001B[43m    \u001B[49m\u001B[43mwait\u001B[49m\u001B[38;5;241;43m=\u001B[39;49m\u001B[43mwait\u001B[49m\u001B[43m,\u001B[49m\n\u001B[1;32m   1571\u001B[0m \u001B[43m    \u001B[49m\u001B[43mordering\u001B[49m\u001B[38;5;241;43m=\u001B[39;49m\u001B[43mordering\u001B[49m\u001B[43m,\u001B[49m\n\u001B[1;32m   1572\u001B[0m \u001B[43m    \u001B[49m\u001B[43mshard_key_selector\u001B[49m\u001B[38;5;241;43m=\u001B[39;49m\u001B[43mshard_key_selector\u001B[49m\u001B[43m,\u001B[49m\n\u001B[1;32m   1573\u001B[0m \u001B[43m    \u001B[49m\u001B[38;5;241;43m*\u001B[39;49m\u001B[38;5;241;43m*\u001B[39;49m\u001B[43mkwargs\u001B[49m\u001B[43m,\u001B[49m\n\u001B[1;32m   1574\u001B[0m \u001B[43m\u001B[49m\u001B[43m)\u001B[49m\n",
      "File \u001B[0;32m~/Desktop/VectorEmbedding/.venv/lib/python3.9/site-packages/qdrant_client/qdrant_remote.py:1908\u001B[0m, in \u001B[0;36mQdrantRemote.upsert\u001B[0;34m(self, collection_name, points, wait, ordering, shard_key_selector, **kwargs)\u001B[0m\n\u001B[1;32m   1905\u001B[0m \u001B[38;5;28;01mif\u001B[39;00m \u001B[38;5;28misinstance\u001B[39m(points, models\u001B[38;5;241m.\u001B[39mBatch):\n\u001B[1;32m   1906\u001B[0m     points \u001B[38;5;241m=\u001B[39m models\u001B[38;5;241m.\u001B[39mPointsBatch(batch\u001B[38;5;241m=\u001B[39mpoints, shard_key\u001B[38;5;241m=\u001B[39mshard_key_selector)\n\u001B[0;32m-> 1908\u001B[0m http_result \u001B[38;5;241m=\u001B[39m \u001B[38;5;28;43mself\u001B[39;49m\u001B[38;5;241;43m.\u001B[39;49m\u001B[43mopenapi_client\u001B[49m\u001B[38;5;241;43m.\u001B[39;49m\u001B[43mpoints_api\u001B[49m\u001B[38;5;241;43m.\u001B[39;49m\u001B[43mupsert_points\u001B[49m\u001B[43m(\u001B[49m\n\u001B[1;32m   1909\u001B[0m \u001B[43m    \u001B[49m\u001B[43mcollection_name\u001B[49m\u001B[38;5;241;43m=\u001B[39;49m\u001B[43mcollection_name\u001B[49m\u001B[43m,\u001B[49m\n\u001B[1;32m   1910\u001B[0m \u001B[43m    \u001B[49m\u001B[43mwait\u001B[49m\u001B[38;5;241;43m=\u001B[39;49m\u001B[43mwait\u001B[49m\u001B[43m,\u001B[49m\n\u001B[1;32m   1911\u001B[0m \u001B[43m    \u001B[49m\u001B[43mpoint_insert_operations\u001B[49m\u001B[38;5;241;43m=\u001B[39;49m\u001B[43mpoints\u001B[49m\u001B[43m,\u001B[49m\n\u001B[1;32m   1912\u001B[0m \u001B[43m    \u001B[49m\u001B[43mordering\u001B[49m\u001B[38;5;241;43m=\u001B[39;49m\u001B[43mordering\u001B[49m\u001B[43m,\u001B[49m\n\u001B[1;32m   1913\u001B[0m \u001B[43m\u001B[49m\u001B[43m)\u001B[49m\u001B[38;5;241m.\u001B[39mresult\n\u001B[1;32m   1914\u001B[0m \u001B[38;5;28;01massert\u001B[39;00m http_result \u001B[38;5;129;01mis\u001B[39;00m \u001B[38;5;129;01mnot\u001B[39;00m \u001B[38;5;28;01mNone\u001B[39;00m, \u001B[38;5;124m\"\u001B[39m\u001B[38;5;124mUpsert returned None result\u001B[39m\u001B[38;5;124m\"\u001B[39m\n\u001B[1;32m   1915\u001B[0m \u001B[38;5;28;01mreturn\u001B[39;00m http_result\n",
      "File \u001B[0;32m~/Desktop/VectorEmbedding/.venv/lib/python3.9/site-packages/qdrant_client/http/api/points_api.py:987\u001B[0m, in \u001B[0;36mSyncPointsApi.upsert_points\u001B[0;34m(self, collection_name, wait, ordering, point_insert_operations)\u001B[0m\n\u001B[1;32m    977\u001B[0m \u001B[38;5;28;01mdef\u001B[39;00m\u001B[38;5;250m \u001B[39m\u001B[38;5;21mupsert_points\u001B[39m(\n\u001B[1;32m    978\u001B[0m     \u001B[38;5;28mself\u001B[39m,\n\u001B[1;32m    979\u001B[0m     collection_name: \u001B[38;5;28mstr\u001B[39m,\n\u001B[0;32m   (...)\u001B[0m\n\u001B[1;32m    982\u001B[0m     point_insert_operations: m\u001B[38;5;241m.\u001B[39mPointInsertOperations \u001B[38;5;241m=\u001B[39m \u001B[38;5;28;01mNone\u001B[39;00m,\n\u001B[1;32m    983\u001B[0m ) \u001B[38;5;241m-\u001B[39m\u001B[38;5;241m>\u001B[39m m\u001B[38;5;241m.\u001B[39mInlineResponse2006:\n\u001B[1;32m    984\u001B[0m \u001B[38;5;250m    \u001B[39m\u001B[38;5;124;03m\"\"\"\u001B[39;00m\n\u001B[1;32m    985\u001B[0m \u001B[38;5;124;03m    Perform insert + updates on points. If point with given ID already exists - it will be overwritten.\u001B[39;00m\n\u001B[1;32m    986\u001B[0m \u001B[38;5;124;03m    \"\"\"\u001B[39;00m\n\u001B[0;32m--> 987\u001B[0m     \u001B[38;5;28;01mreturn\u001B[39;00m \u001B[38;5;28;43mself\u001B[39;49m\u001B[38;5;241;43m.\u001B[39;49m\u001B[43m_build_for_upsert_points\u001B[49m\u001B[43m(\u001B[49m\n\u001B[1;32m    988\u001B[0m \u001B[43m        \u001B[49m\u001B[43mcollection_name\u001B[49m\u001B[38;5;241;43m=\u001B[39;49m\u001B[43mcollection_name\u001B[49m\u001B[43m,\u001B[49m\n\u001B[1;32m    989\u001B[0m \u001B[43m        \u001B[49m\u001B[43mwait\u001B[49m\u001B[38;5;241;43m=\u001B[39;49m\u001B[43mwait\u001B[49m\u001B[43m,\u001B[49m\n\u001B[1;32m    990\u001B[0m \u001B[43m        \u001B[49m\u001B[43mordering\u001B[49m\u001B[38;5;241;43m=\u001B[39;49m\u001B[43mordering\u001B[49m\u001B[43m,\u001B[49m\n\u001B[1;32m    991\u001B[0m \u001B[43m        \u001B[49m\u001B[43mpoint_insert_operations\u001B[49m\u001B[38;5;241;43m=\u001B[39;49m\u001B[43mpoint_insert_operations\u001B[49m\u001B[43m,\u001B[49m\n\u001B[1;32m    992\u001B[0m \u001B[43m    \u001B[49m\u001B[43m)\u001B[49m\n",
      "File \u001B[0;32m~/Desktop/VectorEmbedding/.venv/lib/python3.9/site-packages/qdrant_client/http/api/points_api.py:512\u001B[0m, in \u001B[0;36m_PointsApi._build_for_upsert_points\u001B[0;34m(self, collection_name, wait, ordering, point_insert_operations)\u001B[0m\n\u001B[1;32m    510\u001B[0m \u001B[38;5;28;01mif\u001B[39;00m \u001B[38;5;124m\"\u001B[39m\u001B[38;5;124mContent-Type\u001B[39m\u001B[38;5;124m\"\u001B[39m \u001B[38;5;129;01mnot\u001B[39;00m \u001B[38;5;129;01min\u001B[39;00m headers:\n\u001B[1;32m    511\u001B[0m     headers[\u001B[38;5;124m\"\u001B[39m\u001B[38;5;124mContent-Type\u001B[39m\u001B[38;5;124m\"\u001B[39m] \u001B[38;5;241m=\u001B[39m \u001B[38;5;124m\"\u001B[39m\u001B[38;5;124mapplication/json\u001B[39m\u001B[38;5;124m\"\u001B[39m\n\u001B[0;32m--> 512\u001B[0m \u001B[38;5;28;01mreturn\u001B[39;00m \u001B[38;5;28;43mself\u001B[39;49m\u001B[38;5;241;43m.\u001B[39;49m\u001B[43mapi_client\u001B[49m\u001B[38;5;241;43m.\u001B[39;49m\u001B[43mrequest\u001B[49m\u001B[43m(\u001B[49m\n\u001B[1;32m    513\u001B[0m \u001B[43m    \u001B[49m\u001B[43mtype_\u001B[49m\u001B[38;5;241;43m=\u001B[39;49m\u001B[43mm\u001B[49m\u001B[38;5;241;43m.\u001B[39;49m\u001B[43mInlineResponse2006\u001B[49m\u001B[43m,\u001B[49m\n\u001B[1;32m    514\u001B[0m \u001B[43m    \u001B[49m\u001B[43mmethod\u001B[49m\u001B[38;5;241;43m=\u001B[39;49m\u001B[38;5;124;43m\"\u001B[39;49m\u001B[38;5;124;43mPUT\u001B[39;49m\u001B[38;5;124;43m\"\u001B[39;49m\u001B[43m,\u001B[49m\n\u001B[1;32m    515\u001B[0m \u001B[43m    \u001B[49m\u001B[43murl\u001B[49m\u001B[38;5;241;43m=\u001B[39;49m\u001B[38;5;124;43m\"\u001B[39;49m\u001B[38;5;124;43m/collections/\u001B[39;49m\u001B[38;5;132;43;01m{collection_name}\u001B[39;49;00m\u001B[38;5;124;43m/points\u001B[39;49m\u001B[38;5;124;43m\"\u001B[39;49m\u001B[43m,\u001B[49m\n\u001B[1;32m    516\u001B[0m \u001B[43m    \u001B[49m\u001B[43mheaders\u001B[49m\u001B[38;5;241;43m=\u001B[39;49m\u001B[43mheaders\u001B[49m\u001B[43m \u001B[49m\u001B[38;5;28;43;01mif\u001B[39;49;00m\u001B[43m \u001B[49m\u001B[43mheaders\u001B[49m\u001B[43m \u001B[49m\u001B[38;5;28;43;01melse\u001B[39;49;00m\u001B[43m \u001B[49m\u001B[38;5;28;43;01mNone\u001B[39;49;00m\u001B[43m,\u001B[49m\n\u001B[1;32m    517\u001B[0m \u001B[43m    \u001B[49m\u001B[43mpath_params\u001B[49m\u001B[38;5;241;43m=\u001B[39;49m\u001B[43mpath_params\u001B[49m\u001B[43m,\u001B[49m\n\u001B[1;32m    518\u001B[0m \u001B[43m    \u001B[49m\u001B[43mparams\u001B[49m\u001B[38;5;241;43m=\u001B[39;49m\u001B[43mquery_params\u001B[49m\u001B[43m,\u001B[49m\n\u001B[1;32m    519\u001B[0m \u001B[43m    \u001B[49m\u001B[43mcontent\u001B[49m\u001B[38;5;241;43m=\u001B[39;49m\u001B[43mbody\u001B[49m\u001B[43m,\u001B[49m\n\u001B[1;32m    520\u001B[0m \u001B[43m\u001B[49m\u001B[43m)\u001B[49m\n",
      "File \u001B[0;32m~/Desktop/VectorEmbedding/.venv/lib/python3.9/site-packages/qdrant_client/http/api_client.py:89\u001B[0m, in \u001B[0;36mApiClient.request\u001B[0;34m(self, type_, method, url, path_params, **kwargs)\u001B[0m\n\u001B[1;32m     87\u001B[0m     kwargs[\u001B[38;5;124m\"\u001B[39m\u001B[38;5;124mtimeout\u001B[39m\u001B[38;5;124m\"\u001B[39m] \u001B[38;5;241m=\u001B[39m \u001B[38;5;28mint\u001B[39m(kwargs[\u001B[38;5;124m\"\u001B[39m\u001B[38;5;124mparams\u001B[39m\u001B[38;5;124m\"\u001B[39m][\u001B[38;5;124m\"\u001B[39m\u001B[38;5;124mtimeout\u001B[39m\u001B[38;5;124m\"\u001B[39m])\n\u001B[1;32m     88\u001B[0m request \u001B[38;5;241m=\u001B[39m \u001B[38;5;28mself\u001B[39m\u001B[38;5;241m.\u001B[39m_client\u001B[38;5;241m.\u001B[39mbuild_request(method, url, \u001B[38;5;241m*\u001B[39m\u001B[38;5;241m*\u001B[39mkwargs)\n\u001B[0;32m---> 89\u001B[0m \u001B[38;5;28;01mreturn\u001B[39;00m \u001B[38;5;28;43mself\u001B[39;49m\u001B[38;5;241;43m.\u001B[39;49m\u001B[43msend\u001B[49m\u001B[43m(\u001B[49m\u001B[43mrequest\u001B[49m\u001B[43m,\u001B[49m\u001B[43m \u001B[49m\u001B[43mtype_\u001B[49m\u001B[43m)\u001B[49m\n",
      "File \u001B[0;32m~/Desktop/VectorEmbedding/.venv/lib/python3.9/site-packages/qdrant_client/http/api_client.py:112\u001B[0m, in \u001B[0;36mApiClient.send\u001B[0;34m(self, request, type_)\u001B[0m\n\u001B[1;32m    110\u001B[0m     \u001B[38;5;28;01mexcept\u001B[39;00m ValidationError \u001B[38;5;28;01mas\u001B[39;00m e:\n\u001B[1;32m    111\u001B[0m         \u001B[38;5;28;01mraise\u001B[39;00m ResponseHandlingException(e)\n\u001B[0;32m--> 112\u001B[0m \u001B[38;5;28;01mraise\u001B[39;00m UnexpectedResponse\u001B[38;5;241m.\u001B[39mfor_response(response)\n",
      "\u001B[0;31mUnexpectedResponse\u001B[0m: Unexpected Response: 400 (Bad Request)\nRaw response content:\nb'{\"status\":{\"error\":\"Format error in JSON body: value BSN202 is not a valid point ID, valid values are either an unsigned integer or a UUID\"},\"time\":0.0}'"
     ]
    }
   ],
   "execution_count": 5
  },
  {
   "metadata": {
    "ExecuteTime": {
     "end_time": "2025-03-19T11:53:06.449619Z",
     "start_time": "2025-03-19T11:53:06.440578Z"
    }
   },
   "cell_type": "code",
   "source": [
    "from qdrant_client.http import models\n",
    "\n",
    "def recommend_courses(query_text: str, top_k: int = 3):\n",
    "    search_response = openai_client.embeddings.create(\n",
    "        model=\"text-embedding-3-small\",\n",
    "        input=query_text\n",
    "    )\n",
    "    query_embedding = search_response.data[0].embedding\n",
    "    search_results = qdrant_client.query_points(\n",
    "        collection_name=collection_name,\n",
    "        query=query_embedding,\n",
    "        limit=top_k,\n",
    "        query_filter=None\n",
    "    )\n",
    "\n",
    "    print(search_results)\n",
    "\n",
    "    recommendations = []\n",
    "    for result in search_results.points:\n",
    "        recommendations.append({\n",
    "            \"id\": result.id,\n",
    "            \"title\": result.payload.get(\"title\"),\n",
    "            \"description\": result.payload.get(\"description\"),\n",
    "            \"score\": result.score\n",
    "        })\n",
    "    return recommendations\n"
   ],
   "id": "c04887521c13885f",
   "outputs": [],
   "execution_count": 46
  },
  {
   "metadata": {
    "ExecuteTime": {
     "end_time": "2025-03-19T11:53:09.534403Z",
     "start_time": "2025-03-19T11:53:07.814480Z"
    }
   },
   "cell_type": "code",
   "source": "recommend_courses(\"Im looking for courses that will help me learn backend\", top_k=3)",
   "id": "ae0f2985cf5467cb",
   "outputs": [
    {
     "name": "stdout",
     "output_type": "stream",
     "text": [
      "points=[ScoredPoint(id=4, version=0, score=0.4949369, payload={'title': 'Web Development Bootcamp', 'description': 'An all-in-one course covering both front-end and back-end web development. Students learn HTML, CSS, JavaScript, and server-side programming with modern frameworks through real-world projects and website deployments.'}, vector=None, shard_key=None, order_value=None), ScoredPoint(id=8, version=0, score=0.41414928, payload={'title': 'Advanced Java Programming', 'description': 'This course covers advanced Java topics such as concurrency, memory management, and design patterns. Through in-depth projects, learners develop robust applications and gain insights into best practices in enterprise-level Java development.'}, vector=None, shard_key=None, order_value=None), ScoredPoint(id=9, version=0, score=0.40244797, payload={'title': 'Cloud Computing Essentials', 'description': 'An introductory course to cloud computing concepts, services, and deployment models. The curriculum focuses on major platforms such as AWS, Azure, and Google Cloud, and includes hands-on labs to build and deploy cloud-based applications.'}, vector=None, shard_key=None, order_value=None)]\n"
     ]
    },
    {
     "data": {
      "text/plain": [
       "[{'id': 4,\n",
       "  'title': 'Web Development Bootcamp',\n",
       "  'description': 'An all-in-one course covering both front-end and back-end web development. Students learn HTML, CSS, JavaScript, and server-side programming with modern frameworks through real-world projects and website deployments.',\n",
       "  'score': 0.4949369},\n",
       " {'id': 8,\n",
       "  'title': 'Advanced Java Programming',\n",
       "  'description': 'This course covers advanced Java topics such as concurrency, memory management, and design patterns. Through in-depth projects, learners develop robust applications and gain insights into best practices in enterprise-level Java development.',\n",
       "  'score': 0.41414928},\n",
       " {'id': 9,\n",
       "  'title': 'Cloud Computing Essentials',\n",
       "  'description': 'An introductory course to cloud computing concepts, services, and deployment models. The curriculum focuses on major platforms such as AWS, Azure, and Google Cloud, and includes hands-on labs to build and deploy cloud-based applications.',\n",
       "  'score': 0.40244797}]"
      ]
     },
     "execution_count": 47,
     "metadata": {},
     "output_type": "execute_result"
    }
   ],
   "execution_count": 47
  },
  {
   "metadata": {},
   "cell_type": "code",
   "outputs": [],
   "execution_count": null,
   "source": "",
   "id": "948538796f2d2cca"
  }
 ],
 "metadata": {
  "kernelspec": {
   "display_name": "Python 3",
   "language": "python",
   "name": "python3"
  },
  "language_info": {
   "codemirror_mode": {
    "name": "ipython",
    "version": 2
   },
   "file_extension": ".py",
   "mimetype": "text/x-python",
   "name": "python",
   "nbconvert_exporter": "python",
   "pygments_lexer": "ipython2",
   "version": "2.7.6"
  }
 },
 "nbformat": 4,
 "nbformat_minor": 5
}
